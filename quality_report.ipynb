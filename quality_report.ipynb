{
 "cells": [
  {
   "cell_type": "markdown",
   "metadata": {},
   "source": [
    "<h1 style=\"color: white; \n",
    "    font-size: 46px; \n",
    "    text-align: center; \n",
    "    background: #00ccff; \n",
    "    padding: 30px; \n",
    "    \">Quality Report</h1>"
   ]
  },
  {
   "cell_type": "code",
   "execution_count": 1,
   "metadata": {},
   "outputs": [
    {
     "name": "stdout",
     "output_type": "stream",
     "text": [
      "tensorflow ==  2.2.0\n"
     ]
    }
   ],
   "source": [
    "import tensorflow as tf\n",
    "print('tensorflow == ', tf.__version__)\n",
    "import numpy as np"
   ]
  },
  {
   "cell_type": "code",
   "execution_count": 2,
   "metadata": {},
   "outputs": [],
   "source": [
    "model_path ='./saved_model/image-binary-classification-imagenet-acc979'\n",
    "data_tf = 'cats_vs_dogs'"
   ]
  },
  {
   "cell_type": "markdown",
   "metadata": {},
   "source": [
    "# The model"
   ]
  },
  {
   "cell_type": "code",
   "execution_count": 3,
   "metadata": {},
   "outputs": [
    {
     "name": "stderr",
     "output_type": "stream",
     "text": [
      "Using TensorFlow backend.\n"
     ]
    }
   ],
   "source": [
    "from model_image import ModelImage"
   ]
  },
  {
   "cell_type": "code",
   "execution_count": 4,
   "metadata": {},
   "outputs": [],
   "source": [
    "model = ModelImage()\n",
    "model.load_data(data_tf = data_tf)\n",
    "model.load_model(model_path = model_path)\n",
    "y_pred, y_true = model.predict()"
   ]
  },
  {
   "cell_type": "markdown",
   "metadata": {},
   "source": [
    "# Functionality Analysis"
   ]
  },
  {
   "cell_type": "code",
   "execution_count": 5,
   "metadata": {},
   "outputs": [],
   "source": [
    "from functionality import FunctionalityAnalysis"
   ]
  },
  {
   "cell_type": "code",
   "execution_count": 6,
   "metadata": {},
   "outputs": [
    {
     "name": "stdout",
     "output_type": "stream",
     "text": [
      "Matrix Confusion: \n",
      " [[46  0]\n",
      " [ 0 54]] \n",
      "\n",
      "Accuracy:   1.0 \n",
      "\n",
      "Precision:  1.0\n",
      "Recall:     1.0\n",
      "F1 Score:   1.0\n"
     ]
    }
   ],
   "source": [
    "analysis = FunctionalityAnalysis(y_true, y_pred)\n",
    "print('Matrix Confusion: \\n', analysis.show_matrix_confusion(), '\\n')\n",
    "print('Accuracy:  ', analysis.calculate_accuracy(), '\\n')\n",
    "print('Precision: ', analysis.calculate_precision())\n",
    "print('Recall:    ', analysis.calculate_recall())\n",
    "print('F1 Score:  ', round(analysis.calculate_f1_score(), 2))"
   ]
  }
 ],
 "metadata": {
  "kernelspec": {
   "display_name": "venv",
   "language": "python",
   "name": "venv"
  },
  "language_info": {
   "codemirror_mode": {
    "name": "ipython",
    "version": 3
   },
   "file_extension": ".py",
   "mimetype": "text/x-python",
   "name": "python",
   "nbconvert_exporter": "python",
   "pygments_lexer": "ipython3",
   "version": "3.7.3"
  }
 },
 "nbformat": 4,
 "nbformat_minor": 2
}
