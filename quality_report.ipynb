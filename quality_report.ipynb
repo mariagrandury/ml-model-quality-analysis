{
 "cells": [
  {
   "cell_type": "markdown",
   "metadata": {},
   "source": [
    "<h1 style=\"color: white; \n",
    "    font-size: 46px; \n",
    "    text-align: center; \n",
    "    background: #00ccff; \n",
    "    padding: 30px; \n",
    "    \">Quality Report</h1>"
   ]
  },
  {
   "cell_type": "code",
   "execution_count": 1,
   "metadata": {},
   "outputs": [
    {
     "name": "stdout",
     "output_type": "stream",
     "text": [
      "tensorflow ==  2.3.1\n"
     ]
    }
   ],
   "source": [
    "#!pip install tensorflow==2.3.1\n",
    "\n",
    "import tensorflow as tf\n",
    "print('tensorflow == ', tf.__version__)\n",
    "import numpy as np"
   ]
  },
  {
   "cell_type": "code",
   "execution_count": 2,
   "metadata": {},
   "outputs": [],
   "source": [
    "#!pip install tensorflow_datasets\n",
    "\n",
    "import tensorflow_datasets as tfds"
   ]
  },
  {
   "cell_type": "code",
   "execution_count": 3,
   "metadata": {},
   "outputs": [
    {
     "name": "stderr",
     "output_type": "stream",
     "text": [
      "Using TensorFlow backend.\n"
     ]
    }
   ],
   "source": [
    "from model_image import ModelImage\n",
    "from functionality import FunctionalityAnalysis"
   ]
  },
  {
   "cell_type": "markdown",
   "metadata": {},
   "source": [
    "# Image Binary Classification Model"
   ]
  },
  {
   "cell_type": "code",
   "execution_count": 4,
   "metadata": {},
   "outputs": [],
   "source": [
    "model_path ='./saved_model/image-binary-classification-cats-vs-dogs'\n",
    "data_tf = 'cats_vs_dogs'"
   ]
  },
  {
   "cell_type": "code",
   "execution_count": 5,
   "metadata": {},
   "outputs": [
    {
     "name": "stdout",
     "output_type": "stream",
     "text": [
      "Model loaded! Input shape: (None, 224, 224, 3) , number of classes: 1\n",
      "Data loaded!  <PrefetchDataset shapes: ((None, 224, 224, 3), (None,)), types: (tf.float32, tf.int64)>\n"
     ]
    }
   ],
   "source": [
    "model = ModelImage()\n",
    "model.load_model(model_path = model_path)\n",
    "model.load_data(data_tf = data_tf, test_samples=10)\n",
    "y_pred, y_true = model.predict()"
   ]
  },
  {
   "cell_type": "code",
   "execution_count": 6,
   "metadata": {},
   "outputs": [
    {
     "name": "stdout",
     "output_type": "stream",
     "text": [
      "Confusion Matrix: \n",
      " [[3 0]\n",
      " [0 7]] \n",
      "\n",
      "Accuracy:   1.0 \n",
      "\n",
      "Precision:  1.0\n",
      "Recall:     1.0\n",
      "F1 Score:   1.0\n"
     ]
    }
   ],
   "source": [
    "analysis = FunctionalityAnalysis(y_true, y_pred, 'classification', 'binary')\n",
    "analysis.evaluate_performance()"
   ]
  },
  {
   "cell_type": "markdown",
   "metadata": {},
   "source": [
    "# Image Multiclass Classification Model"
   ]
  },
  {
   "cell_type": "markdown",
   "metadata": {},
   "source": [
    "### - TF dataset"
   ]
  },
  {
   "cell_type": "code",
   "execution_count": 7,
   "metadata": {},
   "outputs": [],
   "source": [
    "model_path ='./saved_model/image-multiclass-mnist-no-robust'\n",
    "data_tf = 'mnist'"
   ]
  },
  {
   "cell_type": "code",
   "execution_count": 8,
   "metadata": {},
   "outputs": [
    {
     "name": "stdout",
     "output_type": "stream",
     "text": [
      "Model loaded! Input shape: (None, 28, 28, 1) , number of classes: 10\n",
      "Data loaded!  <PrefetchDataset shapes: ((None, 28, 28, 1), (None,)), types: (tf.float32, tf.int64)>\n"
     ]
    }
   ],
   "source": [
    "model = ModelImage()\n",
    "model.load_model(model_path = model_path)\n",
    "model.load_data(data_tf=data_tf, test_samples=10)\n",
    "y_pred, y_true = model.predict()"
   ]
  },
  {
   "cell_type": "code",
   "execution_count": 9,
   "metadata": {},
   "outputs": [
    {
     "name": "stdout",
     "output_type": "stream",
     "text": [
      "Confusion Matrix: \n",
      " [[1 0 0 0 0 0 0 0 0]\n",
      " [0 3 0 0 0 0 0 0 0]\n",
      " [0 0 1 0 0 0 0 0 0]\n",
      " [0 0 0 0 0 0 0 0 0]\n",
      " [0 0 0 0 1 0 0 0 0]\n",
      " [0 0 0 0 0 0 0 0 0]\n",
      " [0 0 0 0 0 0 1 0 0]\n",
      " [0 0 0 0 0 0 0 2 0]\n",
      " [0 0 0 0 0 0 0 0 1]] \n",
      "\n",
      "Accuracy:   1.0 \n",
      "\n"
     ]
    }
   ],
   "source": [
    "analysis = FunctionalityAnalysis(y_true, y_pred, 'classification', 'multiclass')\n",
    "analysis.evaluate_performance()"
   ]
  },
  {
   "cell_type": "markdown",
   "metadata": {},
   "source": [
    "### - Dataset from directory"
   ]
  },
  {
   "cell_type": "code",
   "execution_count": 10,
   "metadata": {},
   "outputs": [],
   "source": [
    "model_path = './saved_model/saved_model/flower_photos'\n",
    "data_path = './datasets/flower_photos'"
   ]
  },
  {
   "cell_type": "code",
   "execution_count": 11,
   "metadata": {},
   "outputs": [
    {
     "name": "stdout",
     "output_type": "stream",
     "text": [
      "Model loaded! Input shape: (None, 180, 180, 3) , number of classes: 5\n",
      "Found 3670 files belonging to 5 classes.\n",
      "Using 100 files for validation.\n",
      "Data loaded!  <PrefetchDataset shapes: ((None, 180, 180, 3), (None,)), types: (tf.float32, tf.int32)>\n"
     ]
    }
   ],
   "source": [
    "model = ModelImage()\n",
    "model.load_model(model_path = model_path)\n",
    "model.load_data(data_dir = data_path, split = 0.01)\n",
    "y_pred, y_true = model.predict()"
   ]
  },
  {
   "cell_type": "code",
   "execution_count": 12,
   "metadata": {},
   "outputs": [
    {
     "name": "stdout",
     "output_type": "stream",
     "text": [
      "Confusion Matrix: \n",
      " [[11  6  0  2  0]\n",
      " [ 0 18  1  4  0]\n",
      " [ 2  2 11  1  5]\n",
      " [ 0  0  1 15  0]\n",
      " [ 0  1  4  4 12]] \n",
      "\n",
      "Accuracy:   0.67 \n",
      "\n"
     ]
    }
   ],
   "source": [
    "analysis = FunctionalityAnalysis(y_true, y_pred, 'classification', 'multiclass')\n",
    "analysis.evaluate_performance()"
   ]
  }
 ],
 "metadata": {
  "kernelspec": {
   "display_name": "TF 2.3 Keras 2.4",
   "language": "python",
   "name": "venv"
  },
  "language_info": {
   "codemirror_mode": {
    "name": "ipython",
    "version": 3
   },
   "file_extension": ".py",
   "mimetype": "text/x-python",
   "name": "python",
   "nbconvert_exporter": "python",
   "pygments_lexer": "ipython3",
   "version": "3.7.3"
  }
 },
 "nbformat": 4,
 "nbformat_minor": 2
}
