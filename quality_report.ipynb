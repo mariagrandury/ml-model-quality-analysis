{
 "cells": [
  {
   "cell_type": "markdown",
   "metadata": {},
   "source": [
    "<h1 style=\"color: white; \n",
    "    font-size: 46px; \n",
    "    text-align: center; \n",
    "    background: #00ccff; \n",
    "    padding: 30px; \n",
    "    \">Quality Report</h1>"
   ]
  },
  {
   "cell_type": "code",
   "execution_count": 8,
   "metadata": {},
   "outputs": [
    {
     "name": "stdout",
     "output_type": "stream",
     "text": [
      "tensorflow ==  2.2.0\n"
     ]
    }
   ],
   "source": [
    "import tensorflow as tf\n",
    "print('tensorflow == ', tf.__version__)\n",
    "import numpy as np"
   ]
  },
  {
   "cell_type": "markdown",
   "metadata": {},
   "source": [
    "# Functionality Analysis"
   ]
  },
  {
   "cell_type": "code",
   "execution_count": 39,
   "metadata": {},
   "outputs": [],
   "source": [
    "from functionality import FunctionalityAnalysis"
   ]
  },
  {
   "cell_type": "code",
   "execution_count": 44,
   "metadata": {},
   "outputs": [
    {
     "name": "stdout",
     "output_type": "stream",
     "text": [
      "[1.  1.  0.8 0.  1.  0.  0.  1.  0.  0. ]\n"
     ]
    }
   ],
   "source": [
    "y_true = np.array([1, 1, 0, 0, 1, 0, 0, 1, 0, 0])\n",
    "y_pred = np.array([1, 1, 1, 0, 1, 0, 1, 0, 0, 0])\n",
    "print(y_true)"
   ]
  },
  {
   "cell_type": "code",
   "execution_count": 61,
   "metadata": {},
   "outputs": [
    {
     "name": "stdout",
     "output_type": "stream",
     "text": [
      "Matrix Confusion: \n",
      " [[5 1]\n",
      " [1 3]] \n",
      "\n",
      "Accuracy:   0.7 \n",
      "\n",
      "Precision:  0.75\n",
      "Recall:     0.6\n",
      "F1 Score:   0.67\n"
     ]
    }
   ],
   "source": [
    "analysis = FunctionalityAnalysis(y_true, y_pred)\n",
    "print('Matrix Confusion: \\n', analysis.show_matrix_confusion(), '\\n')\n",
    "print('Accuracy:  ', analysis.calculate_accuracy(), '\\n')\n",
    "print('Precision: ', analysis.calculate_precision())\n",
    "print('Recall:    ', analysis.calculate_recall())\n",
    "print('F1 Score:  ', round(analysis.calculate_f1_score(), 2))"
   ]
  }
 ],
 "metadata": {
  "kernelspec": {
   "display_name": "venv",
   "language": "python",
   "name": "venv"
  },
  "language_info": {
   "codemirror_mode": {
    "name": "ipython",
    "version": 3
   },
   "file_extension": ".py",
   "mimetype": "text/x-python",
   "name": "python",
   "nbconvert_exporter": "python",
   "pygments_lexer": "ipython3",
   "version": "3.7.3"
  }
 },
 "nbformat": 4,
 "nbformat_minor": 2
}
